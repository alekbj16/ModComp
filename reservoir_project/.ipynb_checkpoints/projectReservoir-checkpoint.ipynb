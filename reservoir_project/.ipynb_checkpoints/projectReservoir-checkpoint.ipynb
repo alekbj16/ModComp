{
 "cells": [
  {
   "cell_type": "code",
   "execution_count": 530,
   "metadata": {},
   "outputs": [
    {
     "data": {
      "text/html": [
       "<div>\n",
       "<style scoped>\n",
       "    .dataframe tbody tr th:only-of-type {\n",
       "        vertical-align: middle;\n",
       "    }\n",
       "\n",
       "    .dataframe tbody tr th {\n",
       "        vertical-align: top;\n",
       "    }\n",
       "\n",
       "    .dataframe thead th {\n",
       "        text-align: right;\n",
       "    }\n",
       "</style>\n",
       "<table border=\"1\" class=\"dataframe\">\n",
       "  <thead>\n",
       "    <tr style=\"text-align: right;\">\n",
       "      <th></th>\n",
       "      <th>q[ml/s]</th>\n",
       "      <th>DP[atm]</th>\n",
       "    </tr>\n",
       "  </thead>\n",
       "  <tbody>\n",
       "    <tr>\n",
       "      <th>0</th>\n",
       "      <td>0.1</td>\n",
       "      <td>0.396</td>\n",
       "    </tr>\n",
       "    <tr>\n",
       "      <th>1</th>\n",
       "      <td>0.2</td>\n",
       "      <td>0.170</td>\n",
       "    </tr>\n",
       "    <tr>\n",
       "      <th>2</th>\n",
       "      <td>0.3</td>\n",
       "      <td>0.720</td>\n",
       "    </tr>\n",
       "    <tr>\n",
       "      <th>3</th>\n",
       "      <td>0.6</td>\n",
       "      <td>0.369</td>\n",
       "    </tr>\n",
       "    <tr>\n",
       "      <th>4</th>\n",
       "      <td>1.0</td>\n",
       "      <td>1.406</td>\n",
       "    </tr>\n",
       "    <tr>\n",
       "      <th>5</th>\n",
       "      <td>1.5</td>\n",
       "      <td>2.318</td>\n",
       "    </tr>\n",
       "    <tr>\n",
       "      <th>6</th>\n",
       "      <td>2.0</td>\n",
       "      <td>8.000</td>\n",
       "    </tr>\n",
       "  </tbody>\n",
       "</table>\n",
       "</div>"
      ],
      "text/plain": [
       "   q[ml/s]  DP[atm]\n",
       "0      0.1    0.396\n",
       "1      0.2    0.170\n",
       "2      0.3    0.720\n",
       "3      0.6    0.369\n",
       "4      1.0    1.406\n",
       "5      1.5    2.318\n",
       "6      2.0    8.000"
      ]
     },
     "execution_count": 530,
     "metadata": {},
     "output_type": "execute_result"
    }
   ],
   "source": [
    "%matplotlib inline\n",
    "import numpy as np\n",
    "import pandas as pd\n",
    "import matplotlib.pyplot as plt\n",
    "from sympy.solvers import solve\n",
    "from scipy import special\n",
    "import scipy as sp\n",
    "import scipy.sparse.linalg as lin\n",
    "plt.style.use(\"ggplot\")\n",
    "\n",
    "data = pd.read_csv(\"perm_data.dat\",skiprows=4,sep=\"\\t\",)\n",
    "data\n"
   ]
  },
  {
   "cell_type": "code",
   "execution_count": 2,
   "metadata": {},
   "outputs": [
    {
     "data": {
      "text/plain": [
       "7"
      ]
     },
     "execution_count": 2,
     "metadata": {},
     "output_type": "execute_result"
    }
   ],
   "source": [
    "deltaP = data.loc[:,\"DP[atm]\"]\n",
    "q = data.loc[:,\"q[ml/s]\"]\n",
    "deltaP.size"
   ]
  },
  {
   "cell_type": "code",
   "execution_count": 3,
   "metadata": {},
   "outputs": [
    {
     "data": {
      "text/plain": [
       "Text(0.5, 1.0, 'Volumetric flow rate vs pressure difference')"
      ]
     },
     "execution_count": 3,
     "metadata": {},
     "output_type": "execute_result"
    },
    {
     "data": {
      "image/png": "[encoded data removed]",
      "text/plain": [
       "<Figure size 432x288 with 1 Axes>"
      ]
     },
     "metadata": {},
     "output_type": "display_data"
    }
   ],
   "source": [
    "plt.style.use(\"ggplot\")\n",
    "plt.scatter(x=deltaP,y=q)\n",
    "plt.xlabel(\"Pressure difference delta P\")\n",
    "plt.ylabel(\"Volumetric flow rate Q\")\n",
    "plt.title(\"Volumetric flow rate vs pressure difference\")\n",
    "\n",
    "\n",
    "\n"
   ]
  },
  {
   "cell_type": "code",
   "execution_count": 3,
   "metadata": {},
   "outputs": [],
   "source": [
    "def OSLM(x, y):\n",
    "    \"\"\"\n",
    "    Returns regression coefficient in ordinary least square using solve function\n",
    "    x: observations\n",
    "    y: response\n",
    "    \"\"\"\n",
    "    \n",
    "    XT = np.array([np.ones(len(x)),x],float)\n",
    "    X = np.transpose(XT)\n",
    "    B = np.dot(XT,X)\n",
    "    Yh = np.transpose(y)\n",
    "    C = np.dot(XT,Yh)\n",
    "\n",
    "    return np.linalg.solve(B,C)\n",
    "\n"
   ]
  },
  {
   "cell_type": "code",
   "execution_count": 5,
   "metadata": {
    "scrolled": true
   },
   "outputs": [],
   "source": [
    "coefficients = OSLM(deltaP,q)\n",
    "a = coefficients[1] #Slope of the data\n",
    "b = coefficients[0] \n",
    "x = np.linspace(0,8.5,1000)\n",
    "y = a*x+b"
   ]
  },
  {
   "cell_type": "code",
   "execution_count": 6,
   "metadata": {},
   "outputs": [
    {
     "data": {
      "text/plain": [
       "Text(0.5, 1.0, 'Volumetric flow rate vs pressure difference\\n With linear line')"
      ]
     },
     "execution_count": 6,
     "metadata": {},
     "output_type": "execute_result"
    },
    {
     "data": {
      "image/png": "[encoded data removed]",
      "text/plain": [
       "<Figure size 432x288 with 1 Axes>"
      ]
     },
     "metadata": {},
     "output_type": "display_data"
    }
   ],
   "source": [
    "plt.style.use(\"ggplot\")\n",
    "plt.scatter(x=deltaP,y=q)\n",
    "plt.xlabel(\"Pressure difference delta P\")\n",
    "plt.ylabel(\"Volumetric flow rate Q\")\n",
    "plt.plot(x,y,color=\"blue\")\n",
    "plt.title(\"Volumetric flow rate vs pressure difference\\n With linear line\")\n",
    "\n"
   ]
  },
  {
   "cell_type": "markdown",
   "metadata": {},
   "source": [
    "##### Calculating $k$\n",
    "\n",
    "From equation (2), $ Q = \\frac{kA}\\mu \\times \\frac{\\Delta P}L $, we see that the slope is $ \\frac{kA}\\mu \\times \\frac{1}L$. Based on the linear regression above, we found that the slope is (approximatly) 0.225. By using information given in the exercise for $L$, $\\mu$ and $A$, we can caluclate $k$:\n",
    "$\\newline$\n",
    "\n",
    "$0.2252 = \\frac{k \\times (\\frac{3.8}2)^2 \\times \\pi}1\\times \\frac{1}7$, which gives\n",
    "$k \\approx 0.139  [D]$ "
   ]
  },
  {
   "cell_type": "code",
   "execution_count": 7,
   "metadata": {},
   "outputs": [
    {
     "data": {
      "text/plain": [
       "0.22522230581550956"
      ]
     },
     "execution_count": 7,
     "metadata": {},
     "output_type": "execute_result"
    }
   ],
   "source": [
    "a"
   ]
  },
  {
   "cell_type": "code",
   "execution_count": 8,
   "metadata": {},
   "outputs": [
    {
     "data": {
      "text/plain": [
       "0.38382153864204244"
      ]
     },
     "execution_count": 8,
     "metadata": {},
     "output_type": "execute_result"
    }
   ],
   "source": [
    "b"
   ]
  },
  {
   "cell_type": "code",
   "execution_count": 15,
   "metadata": {},
   "outputs": [
    {
     "name": "stdout",
     "output_type": "stream",
     "text": [
      "Hello, my name is: John.\n",
      "I am a Male.\n"
     ]
    }
   ],
   "source": [
    "class Person:\n",
    "    \"\"\"\n",
    "    A class representing custom objects of the type Person\n",
    "    \"\"\"\n",
    "    \n",
    "    def __init__(self, name, age, gender):\n",
    "        \n",
    "        self.name = name\n",
    "        self.age = age\n",
    "        self.__gender = gender\n",
    "        self.species = \"Human\"\n",
    "        \n",
    "    \n",
    "    def greeting(self):\n",
    "        print(\"Hello, my name is: {}.\".format(self.name))\n",
    "             \n",
    "    def gender(self):\n",
    "        print(\"I am a {}.\".format(self.__gender))\n",
    "     \n",
    "    \n",
    "    \n",
    "    \n",
    "p1 = Person(\"John\", 36, \"Male\")\n",
    "p1.greeting()\n",
    "p1.gender()"
   ]
  },
  {
   "cell_type": "code",
   "execution_count": 691,
   "metadata": {},
   "outputs": [],
   "source": [
    "class RadialDiffusivityEquationSolver:\n",
    "    \"\"\"\n",
    "    A finite difference solver for the radial diffusivity equation.\n",
    "    We use the coordinate transformation y = ln(r/rw) to set up and\n",
    "    solve the pressure equation.\n",
    "    \n",
    "    The solver uses SI units internally, while \"practical field units\"\n",
    "    are required as input.\n",
    "    \n",
    "    Except for the number of grid blocks / points to use, all class\n",
    "    instance attributes are provided with reasonable default values.\n",
    "    \n",
    "    Input arguments:\n",
    "    name                         symbol          unit\n",
    "    --------------------------------------------------------------\n",
    "    Number of grid points           N            dimensionless\n",
    "    well radius                     rw           ft\n",
    "    extent of reservoir             re           ft\n",
    "    height of reservoir             h            ft\n",
    "    permeability                    k            mD\n",
    "    porosity                        phi          dimensionless\n",
    "    fluid viscosity                 mu           mPas (cP)\n",
    "    total compressibility           ct           1 / psi\n",
    "    constant flow rate at well      Q            bbl / day\n",
    "    initial reservoir pressure      pi           psi\n",
    "    constant time step              dt           days\n",
    "    maximal simulation time         max_time     days\n",
    "-------------------------------------------------------------\n",
    "    \"\"\"\n",
    "    def __init__(self, N, rw=0.328, re = 100000., h=8.0,\n",
    "                 k=500, phi=0.1, mu=1.0, ct=17.7e-6, Q=1000,\n",
    "                 pi=2000, dt=0.1, max_time=10):\n",
    "        \n",
    "        \n",
    "        # Unit conversion factors (input units --> SI)\n",
    "        self.ft_to_m_ = 0.3048\n",
    "        self.psi_to_pa_ = 6894.75729\n",
    "        self.day_to_sec_ = 24*60*60\n",
    "        self.bbl_to_m3_ = 0.1589873\n",
    "        self.day_to_hour_ = 24\n",
    "    \n",
    "        # Grid\n",
    "        self.N_ = N\n",
    "        self.rw_ = rw*self.ft_to_m_\n",
    "        self.re_ = re*self.ft_to_m_\n",
    "        self.h_ = h*self.ft_to_m_\n",
    "        \n",
    "        #Grid y\n",
    "        self.yw_ = np.log(self.rw_/self.rw_)\n",
    "        self.ye_ = np.log(self.re_/self.rw_)\n",
    "        self.dy_ = (self.ye_ - self.yw_)/self.N_\n",
    "        self.y_mids_ = self.y_midpoints()\n",
    "        \n",
    "        self.r_points_ = self.r_points()\n",
    "        \n",
    "        \n",
    "        # Rock and fluid properties\n",
    "        self.k_ = k*1e-15 / 1.01325\n",
    "        self.phi_ = phi\n",
    "        self.mu_ = mu*1e-3\n",
    "        self.ct_ = ct / self.psi_to_pa_\n",
    "    \n",
    "        #Initial and boundary conditions\n",
    "        self.Q_ = Q*self.bbl_to_m3_ / self.day_to_sec_\n",
    "        self.pi_ = pi*self.psi_to_pa_\n",
    "    \n",
    "        # Time control for simulation\n",
    "        self.dt_ = dt*self.day_to_sec_\n",
    "        self.max_time_ = max_time*self.day_to_sec_\n",
    "        self.steps_ = int(self.max_time_/self.dt_)\n",
    "        self.current_time_ = 0.\n",
    "        \n",
    "        #Diffusivity constant eta\n",
    "        self.eta_ = self.k_/(self.mu_*self.phi_*self.ct_)\n",
    "        \n",
    "        #Beta constant\n",
    "        self.beta_ = (self.Q_*self.mu_*self.dy_) / (2*np.pi*self.k_*self.h_)\n",
    "        \n",
    "        #Current pressure at time t\n",
    "        self.current_pressure_ = np.full(self.N_, self.pi_)\n",
    "        \n",
    "        \n",
    "        #Xis\n",
    "        self.xis_ = self.xi_i()\n",
    "        \n",
    "        \n",
    "    \n",
    "    def line_source_solution(self,r,t):\n",
    "        \"\"\"\n",
    "        Calculates the analytical line source solution.\n",
    "        r: distance\n",
    "        t: time (in days)\n",
    "        \"\"\"\n",
    "        t = t*self.day_to_sec_ \n",
    "        r = r*self.ft_to_m_\n",
    "        return self.pi_ + (self.Q_*self.mu_)/(4*np.pi*self.k_*self.h_)*sp.special.expi(-r**2/(4*self.eta_*t))\n",
    "    \n",
    "    def plot_line_source_solution(self,t):\n",
    "        \n",
    "        \"\"\"\n",
    "        Plots the analytical line source solution at a specific point in time.\n",
    "        t: time\n",
    "        \"\"\"\n",
    "        r = np.linspace(self.rw_,self.re_,100)\n",
    "        #print(r)\n",
    "        res_pressure = self.line_source_solution(r,t)\n",
    "        #print(pi)\n",
    "        plt.plot(r/self.ft_to_m_,res_pressure/self.psi_to_pa_) #plot same values as input values (converting back to psi)\n",
    "        plt.title(\"Analytical line source solution\")\n",
    "        plt.xlabel(\"Distance [feet]\")\n",
    "        plt.ylabel(\"Pressure [psi]\")\n",
    "        plt.xscale(\"log\")\n",
    "        \n",
    "\n",
    "\n",
    "    def y_midpoints(self):\n",
    "        \"\"\"\n",
    "        returns the midpoints,\n",
    "        does not include y_w since this is not a midpoint\n",
    "        \"\"\"\n",
    "        y_w = self.yw_ #pw #\n",
    "        y_0 = y_w + self.dy_/2 #p0\n",
    "        start = np.array([y_0])\n",
    "        midpoints = np.array([y_0 + self.dy_*N for N in range(1,self.N_)])\n",
    "        allpoints = np.concatenate((start,midpoints))\n",
    "        return allpoints #if including yw\n",
    "        \n",
    "        \n",
    "    def r_points(self):\n",
    "        \"\"\"\n",
    "        returns r-coordintes of grid points\n",
    "        \"\"\"\n",
    "        ys = self.y_midpoints()\n",
    "        rs = np.asarray(self.rw_*np.exp(ys))\n",
    "        return(rs)\n",
    "\n",
    "        \n",
    "    def plot_line_solution_inverted(self,t):\n",
    "        rs = self.r_points_\n",
    "        res_pressure = self.line_source_solution(rs,t)\n",
    "        plt.plot(rs/self.ft_to_m_,res_pressure/self.psi_to_pa_) #plot same values as input values (converting back to psi)\n",
    "        plt.title(\"Line source solution\\nusing inverted r-cords\")\n",
    "        plt.xlabel(\"Distance [feet]\")\n",
    "        plt.ylabel(\"Pressure [psi]\")\n",
    "        plt.xscale(\"log\")\n",
    "        \n",
    "        \n",
    "\n",
    "\n",
    "    def xi_i(self):\n",
    "        \"\"\"\n",
    "        returns all xis\n",
    "        \"\"\"\n",
    "        y_i = self.y_midpoints()\n",
    "        x_i_top = self.eta_*np.exp(-2*y_i)*self.dt_\n",
    "        x_i_bot = (self.rw_**2)*(self.dy_**2)\n",
    "        x_i = x_i_top / x_i_bot\n",
    "        return x_i\n",
    "        \n",
    "\n",
    "    def setup_matrix(self):\n",
    "        \"\"\"\n",
    "        store the coefficient matrix as a regular numpy matrix\n",
    "        \"\"\"\n",
    "        xis = self.xis_\n",
    "        main_d_vals = [1+2*xis[i] for i in range(1,self.N_-1)] #diag 0\n",
    "        main_d_vals.insert(self.N_,1+xis[self.N_-1]) #add final value\n",
    "        main_d_vals.insert(0,1+xis[0]) #add first value\n",
    "        #Now lets fill the offsets:\n",
    "        left_off = [-xis[i] for i in range(1,self.N_)] #diag -1\n",
    "        right_off = [-xis[i] for i in range(0,self.N_-1)] #diag 1\n",
    "        diagonals = [left_off,main_d_vals,right_off]\n",
    "        matrix = sp.sparse.diags(diagonals, [-1,0,1]).toarray()\n",
    "        return np.asmatrix(matrix)\n",
    "\n",
    "       \n",
    "\n",
    "    def setup_sparse_matrix(self):\n",
    "        \"\"\"\n",
    "        only nonzero elementrs of setup-matrix is stored here\n",
    "        \"\"\"\n",
    "        #Fant ut at feilen min lå her. Sparse matrise var helt feil\n",
    "        #Uansett hva jeg gjorde ble den bare feil\n",
    "        #Ende derfor opp med å skamløst kopiere ditt\n",
    "        xis = self.xis_\n",
    "        diags = np.zeros((3,self.N_))\n",
    "        for i in range(1, self.N_):\n",
    "            diags[0,i-1] = -xis[i]  \n",
    "            diags[1,i] = 1+2*xis[i] \n",
    "            diags[2,i] = -xis[i]\n",
    "            \n",
    "        diags[1,0] = 1 + xis[0]\n",
    "        diags[1,self.N_-1] = 1 + xis[self.N_-1]\n",
    "        \n",
    "        \n",
    "        matrix = sp.sparse.spdiags(diags, [-1,0,1],self.N_,self.N_,format='csc')\n",
    "        return matrix\n",
    "    \n",
    "    \n",
    "    def rhs(self):\n",
    "        \"\"\"\n",
    "        calculates the right-hand side of the linear equation system\n",
    "        \"\"\"\n",
    "        #Etter å ha sett din løsning innsåg jeg at jeg heller ikke hadde tatt noe hensyn til step\n",
    "        xis = self.xi_i()\n",
    "        rhs = self.current_pressure_\n",
    "        rhs[0] = rhs[0] - xis[0]*self.beta_\n",
    "        return rhs\n",
    "        \n",
    "    \"\"\"\n",
    "    def top_level(self, sparse = 0): \n",
    "   \n",
    "        pw = np.zeros(self.steps_+1)\n",
    "        pw[0] = self.pi_-0.5*self.beta_\n",
    "        t = self.dt_*np.arange(self.steps_+1) #output time for plot\n",
    "        if sparse == 1: #use sparse matrix\n",
    "            A = self.setup_sparse_matrix()\n",
    "            for i in range(self.steps_):\n",
    "                right_hand_side = self.rhs()\n",
    "                x = lin.spsolve(A, right_hand_side)\n",
    "                self.current_pressure_ = x\n",
    "                pw[i+1] = (self.current_pressure_[0] - self.beta_/2)    \n",
    "        else:\n",
    "            A = self.setup_matrix() #Setup matrix\n",
    "            for i in range(self.steps_-1):\n",
    "                right_hand_side = self.rhs()\n",
    "                x = np.linalg.solve(A,right_hand_side)\n",
    "                self.current_pressure_ = x\n",
    "                pw[i+1] = (self.current_pressure_[0] - self.beta_/2)\n",
    "        return pw, time\n",
    "    \"\"\"\n",
    "    \n",
    "    def top_level(self,sparse = 1):\n",
    "        pw = np.zeros(self.steps_+1)\n",
    "        pw[0] = self.pi_ - self.beta_/2\n",
    "        t = self.dt_*np.arange(self.steps_+1)\n",
    "        if solver == 1:\n",
    "            A = self.setup_sparse_matrix()\n",
    "            for i in range(self.steps_):\n",
    "                rhs = self.rhs()\n",
    "                self.current_pressure_ = lin.spsolve(A,rhs)\n",
    "                pw[i+1] = self.current_pressure_[0] - self.beta_/2\n",
    "                \n",
    "        else:\n",
    "            A = self.setup_matrix()\n",
    "            for i in range(self.steps_-1):\n",
    "                rhs = self.rhs()\n",
    "                self.current_pressure_= np.linalg.solve(A,rhs)\n",
    "                pw[i+1] = self.current_pressure_[0] - self.beta_/2\n",
    "        pressure = self.current_pressure_\n",
    "        return pressure, pw, t"
   ]
  },
  {
   "cell_type": "code",
   "execution_count": 703,
   "metadata": {},
   "outputs": [
    {
     "name": "stdout",
     "output_type": "stream",
     "text": [
      "[13789514.58 13789514.58 13789514.58 13789514.58]\n"
     ]
    },
    {
     "data": {
      "image/png": "[encoded data removed]",
      "text/plain": [
       "<Figure size 432x288 with 1 Axes>"
      ]
     },
     "metadata": {},
     "output_type": "display_data"
    }
   ],
   "source": [
    "solver1 = RadialDiffusivityEquationSolver(N=4)\n",
    "print(solver1.current_pressure_)\n",
    "solver1.plot_line_source_solution(10)"
   ]
  },
  {
   "cell_type": "code",
   "execution_count": 701,
   "metadata": {},
   "outputs": [
    {
     "name": "stdout",
     "output_type": "stream",
     "text": [
      "[[ 7.09640894e+03 -7.09540894e+03  0.00000000e+00  0.00000000e+00]\n",
      " [-1.28503321e+01  2.67006643e+01 -1.28503321e+01  0.00000000e+00]\n",
      " [ 0.00000000e+00 -2.32729413e-02  1.04654588e+00 -2.32729413e-02]\n",
      " [ 0.00000000e+00  0.00000000e+00 -4.21490894e-05  1.00004215e+00]]\n",
      "  (1, 0)\t-12.85033213071938\n",
      "  (0, 0)\t7096.408938819879\n",
      "  (2, 1)\t-0.023272941319329176\n",
      "  (1, 1)\t26.70066426143876\n",
      "  (0, 1)\t-12.85033213071938\n",
      "  (3, 2)\t-4.214908938875963e-05\n",
      "  (2, 2)\t1.0465458826386584\n",
      "  (1, 2)\t-0.023272941319329176\n",
      "  (3, 3)\t1.0000421490893887\n",
      "  (2, 3)\t-4.214908938875963e-05\n",
      "[ 1.57845839  4.73537518  7.89229196 11.04920874]\n"
     ]
    },
    {
     "data": {
      "image/png": "[encoded data removed]",
      "text/plain": [
       "<Figure size 432x288 with 1 Axes>"
      ]
     },
     "metadata": {},
     "output_type": "display_data"
    }
   ],
   "source": [
    "solver1.plot_line_solution_inverted(10)\n",
    "vals = solver1.setup_sparse_matrix()\n",
    "vals2 = solver1.setup_matrix()\n",
    "print(vals2)\n",
    "print(vals)\n",
    "print(solver1.y_midpoints())"
   ]
  },
  {
   "cell_type": "markdown",
   "metadata": {},
   "source": [
    "##### Exercise 2 - Part 2:"
   ]
  },
  {
   "cell_type": "code",
   "execution_count": 623,
   "metadata": {},
   "outputs": [
    {
     "name": "stdout",
     "output_type": "stream",
     "text": [
      "13789514.579999998\n"
     ]
    },
    {
     "data": {
      "image/png": "[encoded data removed]",
      "text/plain": [
       "<Figure size 432x288 with 1 Axes>"
      ]
     },
     "metadata": {},
     "output_type": "display_data"
    }
   ],
   "source": [
    "solver = RadialDiffusivityEquationSolver(N=100)\n",
    "print(solver.pi_)\n",
    "solver.plot_line_source_solution(10) #10 days"
   ]
  },
  {
   "cell_type": "markdown",
   "metadata": {},
   "source": [
    "We see that the pressure approaches a constant value. Since we are implementing the the line source solution analytically and assuming that the reservoir is infinite, it is expected that the pressure arrives at a constant value. We also see that the constant value is the initial pressure reservoir value of 2000 psi. This can also be shown by calculating the line source solution at distance re, e.g.: "
   ]
  },
  {
   "cell_type": "code",
   "execution_count": 624,
   "metadata": {},
   "outputs": [
    {
     "name": "stdout",
     "output_type": "stream",
     "text": [
      "1997.9439262293263\n"
     ]
    }
   ],
   "source": [
    "pressure = solver.line_source_solution(10000,10)\n",
    "print(pressure/6894.75729) #pa to psi\n"
   ]
  },
  {
   "cell_type": "markdown",
   "metadata": {},
   "source": [
    "##### Exercise 2 - Part 3:"
   ]
  },
  {
   "cell_type": "markdown",
   "metadata": {},
   "source": [
    "$\n",
    "\\renewcommand{\\vec}[1]{\\mathbf{#1}}\n",
    "\\newcommand{\\DDT}[1]{\\frac{\\partial}{\\partial t}{#1}}\n",
    "\\newcommand{\\DDR}[1]{\\frac{\\partial}{\\partial r}{#1}}\n",
    "\\newcommand{\\DFDT}[1]{\\frac{\\partial{#1}}{\\partial t}}\n",
    "\\newcommand{\\DFDP}[1]{\\frac{\\partial{#1}}{\\partial p}}\n",
    "\\newcommand{\\DFDR}[1]{\\frac{\\partial{#1}}{\\partial r}}\n",
    "\\newcommand{\\TENSOR}[1]{\\mathbf{#1}}\n",
    "$ \n",
    "We are interested in using the transformation $y(r) = \\ln \\frac{r}r_w$ to show that equations \n",
    "\n",
    "$$\n",
    "\\begin{align}\n",
    "\\DFDT{p} = \\eta \\frac{1}{r}\n",
    "\\DDR{\\left(r\\DFDR{p}\\right)},\n",
    "\\end{align}\n",
    "$$\n",
    "\n",
    "$$\n",
    "\\begin{align}\n",
    "\\frac{2\\pi h kr}{\\mu}\\frac{\\partial p}{\\partial r}|_{r=r_w} = Q \\,,\n",
    "\\end{align}\n",
    "$$\n",
    "\n",
    "and \n",
    "\n",
    "$$\n",
    "\\begin{align}\n",
    "\\frac{\\partial p}{\\partial r}|_{r=r_e} =0 \\,\n",
    "\\end{align}\n",
    "$$\n",
    "\n",
    "can be rewritten as\n",
    "\n",
    "$$\n",
    "\\begin{align}\n",
    "\\frac{\\partial p}{\\partial t}\n",
    "&= \\eta\\frac{e^{-2y}}{r_w^2}\\frac{\\partial^2 p}{\\partial y^2} \\,,\n",
    "\\end{align}\n",
    "$$\n",
    "\n",
    "$$\n",
    "\\begin{align}\n",
    "\\frac{\\partial p}{\\partial y}|_{y=y_w} &= \\frac{Q\\mu}{2\\pi h k} \\,,\n",
    "\\end{align}\n",
    "$$\n",
    "\n",
    "and \n",
    "\n",
    "$$\n",
    "\\begin{align}\n",
    "\\frac{\\partial p}{\\partial y}|_{y=y_e} &= 0 \\,, \n",
    "\\end{align}\n",
    "$$\n",
    "\n",
    "respectivly. \n",
    "\n",
    "We start by showing the first of the above relationships:\n",
    "\n",
    "Derivating\n",
    "$$\n",
    "\\begin{align}\n",
    "y(r)=\\ln \\frac{r}r_w\n",
    "\\end{align}\n",
    "$$\n",
    "gives\n",
    "$$\n",
    "\\DFDR{y} = \\frac{\\partial }{\\partial r}({\\ln \\frac{r}r_w}) = \\frac{1}r,\n",
    "$$\n",
    "since $r_w$ is a constant value.\n",
    "\n",
    "Further, we solve the expression for $r$:\n",
    "\n",
    "$$e^{y} = \\frac{r}r_w$$\n",
    "\n",
    "$$r = r_w e^{y}.$$\n",
    "\n",
    "Now we can write $\\DFDR{p}$ as:\n",
    "\n",
    "$$\n",
    "\\DFDR{p} = \\frac{\\partial p}{\\partial y} \\DFDR{y} = \\frac{\\partial p}{\\partial y} \\frac{1}r.\n",
    "$$\n",
    "\n",
    "Further, we may rewrite$\\DDR{\\left(r\\DFDR{p}\\right)}$:\n",
    "\n",
    "$$\n",
    "\\DDR{\\left(r\\DFDR{p}\\right)} = \\DDR{\\left(r \\frac{1}r \\frac{\\partial p}{\\partial y} \\right)} = \\DDR{\\left(\\frac{\\partial p}{\\partial y}\\right)} = \\frac{\\partial ^2p} {\\partial y^2} \\DFDR{y}. \n",
    "$$\n",
    "Note that the last is true due to the derivation chain rule.\n",
    "\n",
    "Recalling that\n",
    "\n",
    "$$\n",
    "\\DFDR{y} = \\frac{1}r\n",
    "$$\n",
    "\n",
    "as shown above yields \n",
    "\n",
    "$$\n",
    "\\DDR{\\left(r\\DFDR{p}\\right)} = \\frac{\\partial ^2p} {\\partial y^2} \\frac{1}r.\n",
    "$$\n",
    "\n",
    "Now we may combine the above to find the transformed expression for $\\frac{\\partial p}{\\partial t}$: \n",
    "\n",
    "$$\n",
    "\\frac{\\partial p}{\\partial t} = \\eta \\frac{1}r \\frac{1}r \\frac{\\partial ^2p} {\\partial y^2} = \\frac{\\partial p}{\\partial t} = \\eta \\frac{1} {r^2} \\frac{\\partial ^2p} {\\partial y^2} = \\eta \\frac{1} {(e^yr_w)^2} \\frac{\\partial ^2p} {\\partial y^2},\n",
    "$$\n",
    "which yields\n",
    "\n",
    "$$\n",
    "\\frac{\\partial p}{\\partial t} = \\eta \\frac{e^{-2y}} {r_w^2} \\frac{\\partial ^2p} {\\partial y^2}.\n",
    "$$\n",
    "\n",
    "\n",
    "\n",
    "Now lets derive the second of the above relationships:\n",
    "\n",
    "By inserting \n",
    "$$\n",
    "\\DFDR{p} = \\frac{\\partial p}{\\partial y} \\frac{1}r \n",
    "$$\n",
    "into \n",
    "$$\n",
    "\\begin{align}\n",
    "\\frac{2\\pi h kr}{\\mu}\\frac{\\partial p}{\\partial r}|_{r=r_w} = Q \\,,\n",
    "\\end{align}\n",
    "$$\n",
    "and assuming that the vertical well placed in the reservoir has the coordinate $y = y_w$, we get\n",
    "$$\n",
    "\\frac{2\\pi h k r}{\\mu} \\frac{\\partial p}{\\partial y} \\frac{1}r|_{y=y_w} = Q\n",
    "$$\n",
    "which can be written as\n",
    "$$\n",
    "\\frac{\\partial p}{\\partial y}|_{y=y_w} = \\frac{Q \\mu} {2\\pi h k}.\n",
    "$$\n",
    "\n",
    "\n",
    "Finally, the last relatinship can also be showed by inserting \n",
    "$$\n",
    "\\DFDR{p} = \\frac{\\partial p}{\\partial y} \\frac{1}r \n",
    "$$\n",
    "into\n",
    "$$\n",
    "\\begin{align}\n",
    "\\frac{\\partial p}{\\partial r}|_{r=r_e} &= 0 \\,,\n",
    "\\end{align}\n",
    "$$\n",
    "and assuming that the reservoir coordinate at a distance $r = r_e$ can be expressed as $y = y_e$:\n",
    "\n",
    "$$\n",
    "\\frac{\\partial p}{\\partial y} \\frac{1}r |_{y=y_e} = 0,\n",
    "$$\n",
    "which gives\n",
    "$$\n",
    "\\frac{\\partial p}{\\partial y} |_{y=y_e} = 0.\n",
    "$$"
   ]
  },
  {
   "cell_type": "markdown",
   "metadata": {},
   "source": [
    "$$\n",
    "\\frac{\\partial ^2p} {\\partial r \\partial y} = \\frac{\\partial ^2p} {\\partial r \\partial y} \\frac{ \\partial y} {\\partial y} = \\frac{\\partial ^2p} {\\partial y^2} \\DFDR{y} $$"
   ]
  },
  {
   "cell_type": "markdown",
   "metadata": {},
   "source": [
    "##### Exercise 2 - Part 4:\n",
    "##### Are the r points spaced out as they should?\n"
   ]
  },
  {
   "cell_type": "code",
   "execution_count": 625,
   "metadata": {},
   "outputs": [
    {
     "data": {
      "image/png": "[encoded data removed]",
      "text/plain": [
       "<Figure size 432x288 with 1 Axes>"
      ]
     },
     "metadata": {},
     "output_type": "display_data"
    }
   ],
   "source": [
    "r_cords = solver1.r_points()\n",
    "line_source_r = solver1.line_source_solution(r_cords,10)\n",
    "plt.plot(r_cords,line_source_r/6894.75729) \n",
    "plt.title(\"Line source solution \\nusing new (inverted) r-cords\")\n",
    "plt.xlabel(\"Distance [feet]\")\n",
    "plt.ylabel(\"Pressure [pa]\")\n",
    "plt.xscale(\"log\")\n",
    "\n",
    "#"
   ]
  },
  {
   "cell_type": "markdown",
   "metadata": {},
   "source": [
    "Are the r-points spaced out as they should be? \n"
   ]
  },
  {
   "cell_type": "markdown",
   "metadata": {},
   "source": [
    "##### Exercise 2 - Part 5: "
   ]
  },
  {
   "cell_type": "markdown",
   "metadata": {},
   "source": [
    "We now suppose that $N = 4$ grid points and want to write down equation\n",
    "$$\n",
    "\\frac{p_{i}^{n+1}-p_{i}^n}{\\Delta t}=\\eta\\cdot\\frac{e^{-2y_i}}{r_w^2}\\cdot\n",
    "\\frac{p^{n+1}_{i+1}+p^{n+1}_{i-1}-2p^{n+1}_i}{\\Delta y^2}\n",
    "$$\n",
    "for the four grid points, $i = 0,1,2,3$. \n",
    "\n",
    "For $i = 0$: \n",
    "$$\n",
    "\\frac{p_{0}^{n+1}-p_{0}^n}{\\Delta t}=\\eta\\cdot\\frac{e^{-2y_0}}{r_w^2}\\cdot\n",
    "\\frac{p^{n+1}_{1}+p^{n+1}_{-1}-2p^{n+1}_0}{\\Delta y^2}\n",
    "$$\n",
    "\n",
    "For $i = 1$:\n",
    "$$\n",
    "\\frac{p_{1}^{n+1}-p_{1}^n}{\\Delta t}=\\eta\\cdot\\frac{e^{-2y_1}}{r_w^2}\\cdot\n",
    "\\frac{p^{n+1}_{2}+p^{n+1}_{0}-2p^{n+1}_1}{\\Delta y^2}\n",
    "$$\n",
    "\n",
    "For $i = 2$:\n",
    "$$\n",
    "\\frac{p_{2}^{n+1}-p_{2}^n}{\\Delta t}=\\eta\\cdot\\frac{e^{-2y_2}}{r_w^2}\\cdot\n",
    "\\frac{p^{n+1}_{3}+p^{n+1}_{1}-2p^{n+1}_2}{\\Delta y^2}\n",
    "$$\n",
    "\n",
    "For $i = 3$:\n",
    "$$\n",
    "\\frac{p_{3}^{n+1}-p_{3}^n}{\\Delta t}=\\eta\\cdot\\frac{e^{-2y_3}}{r_w^2}\\cdot\n",
    "\\frac{p^{n+1}_{4}+p^{n+1}_{2}-2p^{n+1}_3}{\\Delta y^2}\n",
    "$$"
   ]
  },
  {
   "cell_type": "markdown",
   "metadata": {},
   "source": [
    "##### Exercise 2 - Part 6: "
   ]
  },
  {
   "cell_type": "markdown",
   "metadata": {},
   "source": [
    "We start by replacing the derivatives in the boundary conditions by the central finite difference approximation for $ \\frac{\\partial p}{\\partial y} $ and neglecting higher order terms:\n",
    "\n",
    "$$\n",
    "\\frac{\\partial p}{\\partial y} = \\frac{p^{n+1}_{i+1}-p^{n+1}_{i}}{\\Delta y}. \n",
    "$$\n",
    "\n",
    "Then, we may use this in eliminating the boundary conditions:\n",
    "$$\n",
    "\\frac{\\partial p}{\\partial y}|_{y=y_w} = \\frac{Q \\mu} {2\\pi h k}\n",
    " = \\frac{p^{n+1}_{0}-p^{n+1}_{-1}}{\\Delta y} \n",
    "$$\n",
    "and\n",
    "$$\n",
    "\\begin{align}\n",
    "\\frac{\\partial p}{\\partial y}|_{y=y_e} &= 0 \\,  = \\frac{p^{n+1}_{4}-p^{n+1}_{3}}{\\Delta y} \n",
    "\\end{align}.\n",
    "$$\n",
    "\n",
    "Rewriting these two eqations yields expressions for $p^{n+1}_{-1}$ and $p^{n+1}_{4}$. \n",
    "\n",
    "First for $p^{n+1}_{-1}$: \n",
    "\n",
    "$$\n",
    "\\frac{Q \\mu} {2\\pi h k}\n",
    " = \\frac{p^{n+1}_{0}-p^{n+1}_{-1}}{\\Delta y} \n",
    "$$\n",
    "is the same as\n",
    "$$\n",
    "p^{n+1}_{-1} = p^{n+1}_{0} - \\frac{Q \\mu {\\Delta y}} {2\\pi h k}.\n",
    "$$\n",
    "\n",
    "Finally, using the definition of $\\beta$ as given in the exercise, the expression becomes\n",
    "$$\n",
    "p^{n+1}_{-1} = p^{n+1}_{0} - \\beta.\n",
    "$$\n",
    "\n",
    "Now for $p^{n+1}_{4}$:\n",
    "$$\n",
    "0  = \\frac{p^{n+1}_{4}-p^{n+1}_{3}}{\\Delta y},\n",
    "$$\n",
    "which gives\n",
    "$$\n",
    "p^{n+1}_{4} = p^{n+1}_{3}.\n",
    "$$"
   ]
  },
  {
   "cell_type": "markdown",
   "metadata": {},
   "source": [
    "Using this, we can eliminate $p^{n+1}_{4}$ and $p^{n+1}_{-1}$ from the equations expressed in Exercise 2 - part 5, and acheive the matrix as defined in the exercise. \n",
    "\n",
    "First equation: \n",
    "\n",
    "$$\n",
    "\\frac{p_{0}^{n+1}-p_{0}^n}{\\Delta t}=\\eta\\cdot\\frac{e^{-2y_0}}{r_w^2}\\cdot\n",
    "\\frac{p^{n+1}_{1}+p^{n+1}_{-1}-2p^{n+1}_0}{\\Delta y^2}\n",
    "$$\n",
    "\n",
    "$$\n",
    "{p_{0}^{n+1}-p_{0}^n}=\\xi_0({p^{n+1}_{1}+p^{n+1}_{-1}-2p^{n+1}_0})\n",
    "$$\n",
    "\n",
    "$$\n",
    "{p_{0}^{n+1}-p_{0}^n}=\\xi_0({p^{n+1}_{1}+p^{n+1}_{0} + \\beta -2p^{n+1}_0})\n",
    "$$\n",
    "\n",
    "$$\n",
    "{p_{0}^{n+1}-p_{0}^n}=\\xi_0({p^{n+1}_{1}-p^{n+1}_{0} + \\beta})\n",
    "$$\n",
    "\n",
    "$$\n",
    "{p_{0}^{n+1}-p_{0}^n}=\\xi_{0}p^{n+1}_{1}-\\xi_{0}p^{n+1}_{0} + \\xi_{0}\\beta\n",
    "$$\n",
    "\n",
    "$$\n",
    "{p_{0}^{n+1}-p_{0}^n}=\\xi_{0}p^{n+1}_{1}-\\xi_{0}p^{n+1}_{0} + \\xi_{0}\\beta\n",
    "$$\n",
    "\n",
    "$$\n",
    "p_{0}^n - \\xi_{0}\\beta = p_{0}^{n+1} + \\xi_{0}p^{n+1}_{1} - \\xi_{0}p^{n+1}_1\n",
    "$$\n",
    "\n",
    "$$\n",
    "p_{0}^n - \\xi_{0}\\beta = (1 + \\xi_{0}) p_{0}^{n+1} - \\xi_{0}p^{n+1}_1\n",
    "$$\n",
    "\n",
    "Second equation:\n",
    "\n",
    "$$\n",
    "\\frac{p_{1}^{n+1}-p_{1}^n}{\\Delta t}=\\eta\\cdot\\frac{e^{-2y_1}}{r_w^2}\\cdot\n",
    "\\frac{p^{n+1}_{2}+p^{n+1}_{0}-2p^{n+1}_1}{\\Delta y^2}\n",
    "$$\n",
    "\n",
    "$$\n",
    "p_{1}^{n+1}-p_{1}^n = \\xi_1({p^{n+1}_{2}+p^{n+1}_{0}-2p^{n+1}_1})\n",
    "$$\n",
    "\n",
    "$$\n",
    "p_{1}^{n+1}-p_{1}^n = \\xi_1 p^{n+1}_{2} + \\xi_1 p^{n+1}_{0} - \\xi_1 2p^{n+1}_1\n",
    "$$\n",
    "\n",
    "$$\n",
    "p_{1}^n = - \\xi_1 p^{n+1}_{0} + (1 + 2 \\xi_1 ) p^{n+1}_1 - \\xi_1 p^{n+1}_{2}\n",
    "$$\n"
   ]
  },
  {
   "cell_type": "markdown",
   "metadata": {},
   "source": [
    "Third equation:\n",
    "\n",
    "$$\n",
    "\\frac{p_{2}^{n+1}-p_{2}^n}{\\Delta t}=\\eta\\cdot\\frac{e^{-2y_2}}{r_w^2}\\cdot\n",
    "\\frac{p^{n+1}_{3}+p^{n+1}_{1}-2p^{n+1}_2}{\\Delta y^2}\n",
    "$$\n",
    "\n",
    "$$\n",
    "p_{2}^{n+1}-p_{2}^n = \\xi_2({p^{n+1}_{3}+p^{n+1}_{1}-2p^{n+1}_2})\n",
    "$$\n",
    "\n",
    "$$\n",
    "p_{2}^{n+1}-p_{2}^n = \\xi_2 p^{n+1}_{3} + \\xi_2 p^{n+1}_{1} - \\xi_2 2p^{n+1}_2\n",
    "$$\n",
    "\n",
    "$$\n",
    "p_{2}^n = - \\xi_2 p^{n+1}_{1} + (1 + 2 \\xi_2 ) p^{n+1}_2 - \\xi_2 p^{n+1}_{3}\n",
    "$$\n"
   ]
  },
  {
   "cell_type": "markdown",
   "metadata": {},
   "source": [
    "Fourth equation:\n",
    "$$\n",
    "\\frac{p_{3}^{n+1}-p_{3}^n}{\\Delta t}=\\eta\\cdot\\frac{e^{-2y_3}}{r_w^2}\\cdot\n",
    "\\frac{p^{n+1}_{4}+p^{n+1}_{2}-2p^{n+1}_3}{\\Delta y^2}\n",
    "$$\n",
    "$$\n",
    "p_{3}^{n+1}-p_{3}^n = \\xi_3 ( p^{n+1}_{4}+p^{n+1}_{2}-2p^{n+1}_3 )\n",
    "$$\n",
    "\n",
    "$$\n",
    "p_{3}^{n+1}-p_{3}^n = \\xi_3 p^{n+1}_{4}+\\xi_3 p^{n+1}_{2}- \\xi_3 2p^{n+1}_3\n",
    "$$\n",
    "\n",
    "$$\n",
    "p_{3}^{n+1}-p_{3}^n = \\xi_3 p^{n+1}_{3}+\\xi_3 p^{n+1}_{2}- \\xi_3 2p^{n+1}_3\n",
    "$$\n",
    "\n",
    "$$\n",
    "p_{3}^{n+1}-p_{3}^n = +\\xi_3 p^{n+1}_{2}- \\xi_3 p^{n+1}_3\n",
    "$$\n",
    "\n",
    "$$\n",
    "p_{3}^n =  - \\xi_3 p^{n+1}_{2} + p_{3}^{n+1}(1 + \\xi_3)\n",
    "$$"
   ]
  },
  {
   "cell_type": "markdown",
   "metadata": {},
   "source": [
    "Combining these yields:\n",
    "\n",
    "$$\n",
    "\\begin{equation}\n",
    "\\underbrace{\\begin{pmatrix}\n",
    "1+\\xi_0&-\\xi_0&0&0\\\\ \n",
    "-\\xi_1&1+2\\xi_1&-\\xi_1&0\\\\ \n",
    "0&-\\xi_2&1+2\\xi_2&-\\xi_2\\\\ \n",
    "0&0&-\\xi_3&1+\\xi_3\\\\ \n",
    "\\end{pmatrix}}_{\\mathbf{A}}\n",
    "\\underbrace{\\begin{pmatrix}\n",
    "p_0^{n+1}\\\\ \n",
    "p_1^{n+1}\\\\ \n",
    "p_2^{n+1}\\\\ \n",
    "p_3^{n+1}\\\\ \n",
    "\\end{pmatrix}}_{\\mathbf{p}^{n+1}}\n",
    "=\n",
    "\\underbrace{\\begin{pmatrix}\n",
    "p_0^{n}-\\xi_0\\beta\\\\ \n",
    "p_1^{n}\\\\ \n",
    "p_2^{n}\\\\ \n",
    "p_3^{n}\\\\ \n",
    "\\end{pmatrix}}_{\\mathbf{p}^{n}-\\mathbf{d}}\n",
    "\\end{equation},\n",
    "$$\n",
    "\n",
    "where\n",
    "$$\n",
    "\\xi_i \\equiv \\frac{\\eta e^{-2 y_i} \\Delta{t}}{r_w^2 \\Delta{y}^2}\\,,\n",
    "$$\n",
    "\n",
    "and\n",
    "$$\n",
    "\\beta \\equiv \\frac{Q\\mu\\Delta y}{2\\pi k h}\\,.\n",
    "$$"
   ]
  },
  {
   "cell_type": "markdown",
   "metadata": {},
   "source": [
    "###### Exericse 3 - Implementing the full numerical solution\n"
   ]
  },
  {
   "cell_type": "markdown",
   "metadata": {},
   "source": [
    "###### Part 2 \n"
   ]
  },
  {
   "cell_type": "code",
   "execution_count": 702,
   "metadata": {},
   "outputs": [
    {
     "data": {
      "text/plain": [
       "<matplotlib.legend.Legend at 0x1c990ebdd88>"
      ]
     },
     "execution_count": 702,
     "metadata": {},
     "output_type": "execute_result"
    },
    {
     "data": {
      "image/png": "[encoded data removed]",
      "text/plain": [
       "<Figure size 432x288 with 1 Axes>"
      ]
     },
     "metadata": {},
     "output_type": "display_data"
    }
   ],
   "source": [
    "one = RadialDiffusivityEquationSolver(N=100)\n",
    "\n",
    "#Sparse\n",
    "sparsepn,sparsepw,time = one.top_level(sparse=1)\n",
    "\n",
    "#Regular \n",
    "regpn,regpw,time = one.top_level(sparse=0)\n",
    "\n",
    "#Line source\n",
    "r_cords = one.r_points_/0.3048\n",
    "\n",
    "line_source_r = one.line_source_solution(r_cords,10)\n",
    "plt.plot(r_cords,line_source_r/6894.75729,label=\"analytical\") \n",
    "plt.plot(r_cords,sparsepn/6894.75729,label=\"sparse\")\n",
    "plt.plot(r_cords,regpn/6894.75729,label=\"regular\")\n",
    "plt.title(\"Line source solution \\nusing new (inverted) r-cords\")\n",
    "plt.xlabel(\"Distance [feet]\")\n",
    "plt.ylabel(\"Pressure [pa]\")\n",
    "plt.xscale(\"log\")\n",
    "plt.legend()\n",
    "\n",
    "\n"
   ]
  },
  {
   "cell_type": "code",
   "execution_count": null,
   "metadata": {},
   "outputs": [],
   "source": []
  },
  {
   "cell_type": "code",
   "execution_count": 379,
   "metadata": {},
   "outputs": [
    {
     "name": "stdout",
     "output_type": "stream",
     "text": [
      "1.33 s ± 17.2 ms per loop (mean ± std. dev. of 7 runs, 1 loop each)\n",
      "73.5 ms ± 578 µs per loop (mean ± std. dev. of 7 runs, 10 loops each)\n"
     ]
    }
   ],
   "source": [
    "two = RadialDiffusivityEquationSolver(N=1000)\n",
    "%timeit reg=  two.top_level(sparse=0) \n",
    "%timeit spar = two.top_level(sparse=1)"
   ]
  },
  {
   "cell_type": "code",
   "execution_count": null,
   "metadata": {},
   "outputs": [],
   "source": []
  },
  {
   "cell_type": "code",
   "execution_count": null,
   "metadata": {},
   "outputs": [],
   "source": []
  },
  {
   "cell_type": "markdown",
   "metadata": {},
   "source": [
    "### Random bullshit\n",
    "\n",
    "\n",
    "First for $p_{-1}$ using the first of the above expressions: \n",
    "$$\n",
    "\\frac{Q \\mu} {2\\pi h k}\n",
    " = \\frac{p^{n+1}_{1}+p^{n+1}_{-1}-2p^{n+1}_0}{\\Delta y^2} \n",
    "$$\n",
    "which gives\n",
    "$$\n",
    "p^{n+1}_{1}+p^{n+1}_{-1}-2p^{n+1}_0 = \\frac{Q \\mu {\\Delta y^2}} {2\\pi h k}\n",
    "$$\n",
    "which is the same as\n",
    "$$\n",
    "p^{n+1}_{-1} = \\frac{Q \\mu {\\Delta y^2}} {2\\pi h k} - p^{n+1}_{1} + 2p^{n+1}_0.\n",
    "$$\n",
    "Finally, using the definition of $\\beta$ as given in the exercise, the expression becomes:\n",
    "$$\n",
    "p^{n+1}_{-1} = \\beta {\\Delta y}  - p^{n+1}_{1} + 2p^{n+1}_0.\n",
    "$$\n",
    "\n",
    "Thus, $p^{n+1}_{-1}$ can be expressed using $p^{n+1}_{0}$ and $p^{n+1}_{1}$.\n",
    "\n",
    "\n",
    "Now for $p_{4}$ using the second of the above expressions: \n",
    "$$\n",
    "0 = \\frac{p^{n+1}_{4}+p^{n+1}_{2}-2p^{n+1}_3}{\\Delta y^2} \n",
    "$$\n",
    "gives \n",
    "$$\n",
    "p^{n+1}_{4} = -p^{n+1}_{2} + 2p^{n+1}_3.\n",
    "$$\n",
    "\n",
    "Thus, $p^{n+1}_{4}$ can be expressed using $-p^{n+1}_{2}$ and $p^{n+1}_3$."
   ]
  },
  {
   "cell_type": "code",
   "execution_count": null,
   "metadata": {},
   "outputs": [],
   "source": []
  },
  {
   "cell_type": "code",
   "execution_count": null,
   "metadata": {
    "scrolled": true
   },
   "outputs": [],
   "source": []
  },
  {
   "cell_type": "markdown",
   "metadata": {},
   "source": [
    "###### Exercise 4 - Part 1:"
   ]
  },
  {
   "cell_type": "code",
   "execution_count": 468,
   "metadata": {},
   "outputs": [
    {
     "data": {
      "text/html": [
       "<div>\n",
       "<style scoped>\n",
       "    .dataframe tbody tr th:only-of-type {\n",
       "        vertical-align: middle;\n",
       "    }\n",
       "\n",
       "    .dataframe tbody tr th {\n",
       "        vertical-align: top;\n",
       "    }\n",
       "\n",
       "    .dataframe thead th {\n",
       "        text-align: right;\n",
       "    }\n",
       "</style>\n",
       "<table border=\"1\" class=\"dataframe\">\n",
       "  <thead>\n",
       "    <tr style=\"text-align: right;\">\n",
       "      <th></th>\n",
       "      <th>time</th>\n",
       "      <th>well_pressure</th>\n",
       "    </tr>\n",
       "  </thead>\n",
       "  <tbody>\n",
       "    <tr>\n",
       "      <th>0</th>\n",
       "      <td>0</td>\n",
       "      <td>1900</td>\n",
       "    </tr>\n",
       "    <tr>\n",
       "      <th>1</th>\n",
       "      <td>10</td>\n",
       "      <td>1849</td>\n",
       "    </tr>\n",
       "    <tr>\n",
       "      <th>2</th>\n",
       "      <td>20</td>\n",
       "      <td>1784</td>\n",
       "    </tr>\n",
       "    <tr>\n",
       "      <th>3</th>\n",
       "      <td>40</td>\n",
       "      <td>1726</td>\n",
       "    </tr>\n",
       "    <tr>\n",
       "      <th>4</th>\n",
       "      <td>80</td>\n",
       "      <td>1661</td>\n",
       "    </tr>\n",
       "    <tr>\n",
       "      <th>5</th>\n",
       "      <td>150</td>\n",
       "      <td>1595</td>\n",
       "    </tr>\n",
       "    <tr>\n",
       "      <th>6</th>\n",
       "      <td>300</td>\n",
       "      <td>1508</td>\n",
       "    </tr>\n",
       "    <tr>\n",
       "      <th>7</th>\n",
       "      <td>500</td>\n",
       "      <td>1421</td>\n",
       "    </tr>\n",
       "    <tr>\n",
       "      <th>8</th>\n",
       "      <td>800</td>\n",
       "      <td>1320</td>\n",
       "    </tr>\n",
       "    <tr>\n",
       "      <th>9</th>\n",
       "      <td>1200</td>\n",
       "      <td>1211</td>\n",
       "    </tr>\n",
       "    <tr>\n",
       "      <th>10</th>\n",
       "      <td>1500</td>\n",
       "      <td>1131</td>\n",
       "    </tr>\n",
       "    <tr>\n",
       "      <th>11</th>\n",
       "      <td>2000</td>\n",
       "      <td>986</td>\n",
       "    </tr>\n",
       "    <tr>\n",
       "      <th>12</th>\n",
       "      <td>2500</td>\n",
       "      <td>856</td>\n",
       "    </tr>\n",
       "    <tr>\n",
       "      <th>13</th>\n",
       "      <td>3000</td>\n",
       "      <td>718</td>\n",
       "    </tr>\n",
       "  </tbody>\n",
       "</table>\n",
       "</div>"
      ],
      "text/plain": [
       "    time  well_pressure\n",
       "0      0           1900\n",
       "1     10           1849\n",
       "2     20           1784\n",
       "3     40           1726\n",
       "4     80           1661\n",
       "5    150           1595\n",
       "6    300           1508\n",
       "7    500           1421\n",
       "8    800           1320\n",
       "9   1200           1211\n",
       "10  1500           1131\n",
       "11  2000            986\n",
       "12  2500            856\n",
       "13  3000            718"
      ]
     },
     "execution_count": 468,
     "metadata": {},
     "output_type": "execute_result"
    },
    {
     "data": {
      "image/png": "[encoded data removed]",
      "text/plain": [
       "<Figure size 432x288 with 1 Axes>"
      ]
     },
     "metadata": {},
     "output_type": "display_data"
    }
   ],
   "source": [
    "well_data = pd.read_csv(\"well_test.dat\",skiprows=3,sep=\"\\t\")\n",
    "#Note, time is in hours and pressure is in psi\n",
    "well_data\n",
    "time = well_data.loc[:,\"time\"]\n",
    "pressure = well_data.loc[:,\"well_pressure\"]\n",
    "\n",
    "\n",
    "plt.style.use(\"ggplot\")\n",
    "plt.scatter(x=time,y=pressure)\n",
    "plt.xlabel(\"Time [h]\")\n",
    "plt.ylabel(\"Pressure [psi]\")\n",
    "plt.title(\"Pressure vs time\")\n",
    "\n",
    "well_data"
   ]
  },
  {
   "cell_type": "markdown",
   "metadata": {},
   "source": [
    "###### Part 2:\n",
    "$$\n",
    "\\frac{p_{0}^{n+1}-p_{w}^{n+1}}{\\Delta y/2} = \\frac{Q \\mu} {2\\pi h k}\n",
    "$$\n",
    "yields \n",
    "$$\n",
    "p_{w}^{n+1} = p_{0}^{n+1} -  \\frac{Q \\mu \\Delta y} {4\\pi h k}\n",
    "$$"
   ]
  },
  {
   "cell_type": "code",
   "execution_count": 167,
   "metadata": {},
   "outputs": [
    {
     "data": {
      "text/plain": [
       "[1, 2, 3, 4, 5, 6, 7, 8]"
      ]
     },
     "execution_count": 167,
     "metadata": {},
     "output_type": "execute_result"
    }
   ],
   "source": []
  },
  {
   "cell_type": "code",
   "execution_count": 700,
   "metadata": {},
   "outputs": [
    {
     "name": "stderr",
     "output_type": "stream",
     "text": [
      "C:\\Users\\aleks\\Anaconda3\\lib\\site-packages\\ipykernel_launcher.py:96: RuntimeWarning: divide by zero encountered in true_divide\n"
     ]
    },
    {
     "data": {
      "image/png": "[encoded data removed]",
      "text/plain": [
       "<Figure size 432x288 with 1 Axes>"
      ]
     },
     "metadata": {},
     "output_type": "display_data"
    }
   ],
   "source": [
    "solver3 = RadialDiffusivityEquationSolver(N=100,re=100000,max_time = 125, k=95,pi=2500)\n",
    "well_data = pd.read_csv(\"well_test.dat\",skiprows=3,sep=\"\\t\")\n",
    "#Note, time is in hours and pressure is in psi\n",
    "well_data\n",
    "time = well_data.loc[:,\"time\"]\n",
    "pressure = well_data.loc[:,\"well_pressure\"]\n",
    "regpn,regpw,times = solver3.top_level(sparse=0)\n",
    "\n",
    "hours = times/3600\n",
    "\n",
    "analytic = solver3.line_source_solution(0.328,hours)\n",
    "\n",
    "plt.style.use(\"ggplot\")\n",
    "plt.scatter(x=time,y=pressure,color = \"blue\")\n",
    "plt.plot(hours,regpw/6894.75729,label=\"numerical\")\n",
    "plt.plot(hours,analytic/6894.75729)\n",
    "plt.xlabel(\"Time [h]\")\n",
    "plt.ylabel(\"Pressure [psi]\")\n",
    "plt.title(\" Well pressure vs time\")\n",
    "plt.xscale(\"log\")\n",
    "\n"
   ]
  },
  {
   "cell_type": "code",
   "execution_count": 689,
   "metadata": {},
   "outputs": [
    {
     "ename": "ValueError",
     "evalue": "Can only tuple-index with a MultiIndex",
     "output_type": "error",
     "traceback": [
      "\u001b[1;31m---------------------------------------------------------------------------\u001b[0m",
      "\u001b[1;31mValueError\u001b[0m                                Traceback (most recent call last)",
      "\u001b[1;32m<ipython-input-689-ed1ff6d8df99>\u001b[0m in \u001b[0;36m<module>\u001b[1;34m\u001b[0m\n\u001b[1;32m----> 1\u001b[1;33m \u001b[0mtimes\u001b[0m\u001b[1;33m[\u001b[0m\u001b[1;36m1\u001b[0m\u001b[1;33m,\u001b[0m\u001b[1;33m]\u001b[0m\u001b[1;33m\u001b[0m\u001b[1;33m\u001b[0m\u001b[0m\n\u001b[0m",
      "\u001b[1;32m~\\Anaconda3\\lib\\site-packages\\pandas\\core\\series.py\u001b[0m in \u001b[0;36m__getitem__\u001b[1;34m(self, key)\u001b[0m\n\u001b[0;32m    906\u001b[0m             \u001b[1;32mreturn\u001b[0m \u001b[0mself\u001b[0m\u001b[1;33m.\u001b[0m\u001b[0m_get_values\u001b[0m\u001b[1;33m(\u001b[0m\u001b[0mkey\u001b[0m\u001b[1;33m)\u001b[0m\u001b[1;33m\u001b[0m\u001b[1;33m\u001b[0m\u001b[0m\n\u001b[0;32m    907\u001b[0m \u001b[1;33m\u001b[0m\u001b[0m\n\u001b[1;32m--> 908\u001b[1;33m         \u001b[1;32mreturn\u001b[0m \u001b[0mself\u001b[0m\u001b[1;33m.\u001b[0m\u001b[0m_get_with\u001b[0m\u001b[1;33m(\u001b[0m\u001b[0mkey\u001b[0m\u001b[1;33m)\u001b[0m\u001b[1;33m\u001b[0m\u001b[1;33m\u001b[0m\u001b[0m\n\u001b[0m\u001b[0;32m    909\u001b[0m \u001b[1;33m\u001b[0m\u001b[0m\n\u001b[0;32m    910\u001b[0m     \u001b[1;32mdef\u001b[0m \u001b[0m_get_with\u001b[0m\u001b[1;33m(\u001b[0m\u001b[0mself\u001b[0m\u001b[1;33m,\u001b[0m \u001b[0mkey\u001b[0m\u001b[1;33m)\u001b[0m\u001b[1;33m:\u001b[0m\u001b[1;33m\u001b[0m\u001b[1;33m\u001b[0m\u001b[0m\n",
      "\u001b[1;32m~\\Anaconda3\\lib\\site-packages\\pandas\\core\\series.py\u001b[0m in \u001b[0;36m_get_with\u001b[1;34m(self, key)\u001b[0m\n\u001b[0;32m    921\u001b[0m             )\n\u001b[0;32m    922\u001b[0m         \u001b[1;32melif\u001b[0m \u001b[0misinstance\u001b[0m\u001b[1;33m(\u001b[0m\u001b[0mkey\u001b[0m\u001b[1;33m,\u001b[0m \u001b[0mtuple\u001b[0m\u001b[1;33m)\u001b[0m\u001b[1;33m:\u001b[0m\u001b[1;33m\u001b[0m\u001b[1;33m\u001b[0m\u001b[0m\n\u001b[1;32m--> 923\u001b[1;33m             \u001b[1;32mreturn\u001b[0m \u001b[0mself\u001b[0m\u001b[1;33m.\u001b[0m\u001b[0m_get_values_tuple\u001b[0m\u001b[1;33m(\u001b[0m\u001b[0mkey\u001b[0m\u001b[1;33m)\u001b[0m\u001b[1;33m\u001b[0m\u001b[1;33m\u001b[0m\u001b[0m\n\u001b[0m\u001b[0;32m    924\u001b[0m \u001b[1;33m\u001b[0m\u001b[0m\n\u001b[0;32m    925\u001b[0m         \u001b[1;32melif\u001b[0m \u001b[1;32mnot\u001b[0m \u001b[0mis_list_like\u001b[0m\u001b[1;33m(\u001b[0m\u001b[0mkey\u001b[0m\u001b[1;33m)\u001b[0m\u001b[1;33m:\u001b[0m\u001b[1;33m\u001b[0m\u001b[1;33m\u001b[0m\u001b[0m\n",
      "\u001b[1;32m~\\Anaconda3\\lib\\site-packages\\pandas\\core\\series.py\u001b[0m in \u001b[0;36m_get_values_tuple\u001b[1;34m(self, key)\u001b[0m\n\u001b[0;32m    956\u001b[0m \u001b[1;33m\u001b[0m\u001b[0m\n\u001b[0;32m    957\u001b[0m         \u001b[1;32mif\u001b[0m \u001b[1;32mnot\u001b[0m \u001b[0misinstance\u001b[0m\u001b[1;33m(\u001b[0m\u001b[0mself\u001b[0m\u001b[1;33m.\u001b[0m\u001b[0mindex\u001b[0m\u001b[1;33m,\u001b[0m \u001b[0mMultiIndex\u001b[0m\u001b[1;33m)\u001b[0m\u001b[1;33m:\u001b[0m\u001b[1;33m\u001b[0m\u001b[1;33m\u001b[0m\u001b[0m\n\u001b[1;32m--> 958\u001b[1;33m             \u001b[1;32mraise\u001b[0m \u001b[0mValueError\u001b[0m\u001b[1;33m(\u001b[0m\u001b[1;34m\"Can only tuple-index with a MultiIndex\"\u001b[0m\u001b[1;33m)\u001b[0m\u001b[1;33m\u001b[0m\u001b[1;33m\u001b[0m\u001b[0m\n\u001b[0m\u001b[0;32m    959\u001b[0m \u001b[1;33m\u001b[0m\u001b[0m\n\u001b[0;32m    960\u001b[0m         \u001b[1;31m# If key is contained, would have returned by now\u001b[0m\u001b[1;33m\u001b[0m\u001b[1;33m\u001b[0m\u001b[1;33m\u001b[0m\u001b[0m\n",
      "\u001b[1;31mValueError\u001b[0m: Can only tuple-index with a MultiIndex"
     ]
    }
   ],
   "source": [
    "\n"
   ]
  },
  {
   "cell_type": "code",
   "execution_count": 471,
   "metadata": {},
   "outputs": [
    {
     "ename": "RuntimeError",
     "evalue": "Optimal parameters not found: Number of calls to function has reached maxfev = 400.",
     "output_type": "error",
     "traceback": [
      "\u001b[1;31m---------------------------------------------------------------------------\u001b[0m",
      "\u001b[1;31mRuntimeError\u001b[0m                              Traceback (most recent call last)",
      "\u001b[1;32m<ipython-input-471-2603facc5d12>\u001b[0m in \u001b[0;36m<module>\u001b[1;34m\u001b[0m\n\u001b[0;32m      1\u001b[0m \u001b[1;32mfrom\u001b[0m \u001b[0mscipy\u001b[0m \u001b[1;32mimport\u001b[0m \u001b[0moptimize\u001b[0m\u001b[1;33m\u001b[0m\u001b[1;33m\u001b[0m\u001b[0m\n\u001b[1;32m----> 2\u001b[1;33m \u001b[0mcurve_fit\u001b[0m \u001b[1;33m=\u001b[0m \u001b[0moptimize\u001b[0m\u001b[1;33m.\u001b[0m\u001b[0mcurve_fit\u001b[0m\u001b[1;33m(\u001b[0m\u001b[0msolver3\u001b[0m\u001b[1;33m.\u001b[0m\u001b[0mline_source_solution\u001b[0m\u001b[1;33m,\u001b[0m\u001b[0mxdata\u001b[0m\u001b[1;33m=\u001b[0m\u001b[0mtime\u001b[0m\u001b[1;33m,\u001b[0m\u001b[0mydata\u001b[0m\u001b[1;33m=\u001b[0m\u001b[0mpressure\u001b[0m\u001b[1;33m)\u001b[0m\u001b[1;33m\u001b[0m\u001b[1;33m\u001b[0m\u001b[0m\n\u001b[0m",
      "\u001b[1;32m~\\Anaconda3\\lib\\site-packages\\scipy\\optimize\\minpack.py\u001b[0m in \u001b[0;36mcurve_fit\u001b[1;34m(f, xdata, ydata, p0, sigma, absolute_sigma, check_finite, bounds, method, jac, **kwargs)\u001b[0m\n\u001b[0;32m    787\u001b[0m         \u001b[0mcost\u001b[0m \u001b[1;33m=\u001b[0m \u001b[0mnp\u001b[0m\u001b[1;33m.\u001b[0m\u001b[0msum\u001b[0m\u001b[1;33m(\u001b[0m\u001b[0minfodict\u001b[0m\u001b[1;33m[\u001b[0m\u001b[1;34m'fvec'\u001b[0m\u001b[1;33m]\u001b[0m \u001b[1;33m**\u001b[0m \u001b[1;36m2\u001b[0m\u001b[1;33m)\u001b[0m\u001b[1;33m\u001b[0m\u001b[1;33m\u001b[0m\u001b[0m\n\u001b[0;32m    788\u001b[0m         \u001b[1;32mif\u001b[0m \u001b[0mier\u001b[0m \u001b[1;32mnot\u001b[0m \u001b[1;32min\u001b[0m \u001b[1;33m[\u001b[0m\u001b[1;36m1\u001b[0m\u001b[1;33m,\u001b[0m \u001b[1;36m2\u001b[0m\u001b[1;33m,\u001b[0m \u001b[1;36m3\u001b[0m\u001b[1;33m,\u001b[0m \u001b[1;36m4\u001b[0m\u001b[1;33m]\u001b[0m\u001b[1;33m:\u001b[0m\u001b[1;33m\u001b[0m\u001b[1;33m\u001b[0m\u001b[0m\n\u001b[1;32m--> 789\u001b[1;33m             \u001b[1;32mraise\u001b[0m \u001b[0mRuntimeError\u001b[0m\u001b[1;33m(\u001b[0m\u001b[1;34m\"Optimal parameters not found: \"\u001b[0m \u001b[1;33m+\u001b[0m \u001b[0merrmsg\u001b[0m\u001b[1;33m)\u001b[0m\u001b[1;33m\u001b[0m\u001b[1;33m\u001b[0m\u001b[0m\n\u001b[0m\u001b[0;32m    790\u001b[0m     \u001b[1;32melse\u001b[0m\u001b[1;33m:\u001b[0m\u001b[1;33m\u001b[0m\u001b[1;33m\u001b[0m\u001b[0m\n\u001b[0;32m    791\u001b[0m         \u001b[1;31m# Rename maxfev (leastsq) to max_nfev (least_squares), if specified.\u001b[0m\u001b[1;33m\u001b[0m\u001b[1;33m\u001b[0m\u001b[1;33m\u001b[0m\u001b[0m\n",
      "\u001b[1;31mRuntimeError\u001b[0m: Optimal parameters not found: Number of calls to function has reached maxfev = 400."
     ]
    }
   ],
   "source": []
  },
  {
   "cell_type": "code",
   "execution_count": 615,
   "metadata": {},
   "outputs": [
    {
     "data": {
      "text/plain": [
       "array([4, 4, 4, 4])"
      ]
     },
     "execution_count": 615,
     "metadata": {},
     "output_type": "execute_result"
    }
   ],
   "source": [
    "np.full(4,4)"
   ]
  },
  {
   "cell_type": "code",
   "execution_count": 189,
   "metadata": {},
   "outputs": [],
   "source": []
  },
  {
   "cell_type": "code",
   "execution_count": null,
   "metadata": {},
   "outputs": [],
   "source": []
  },
  {
   "cell_type": "code",
   "execution_count": null,
   "metadata": {},
   "outputs": [],
   "source": []
  },
  {
   "cell_type": "code",
   "execution_count": null,
   "metadata": {},
   "outputs": [],
   "source": []
  },
  {
   "cell_type": "code",
   "execution_count": null,
   "metadata": {},
   "outputs": [],
   "source": []
  },
  {
   "cell_type": "code",
   "execution_count": null,
   "metadata": {},
   "outputs": [],
   "source": []
  },
  {
   "cell_type": "code",
   "execution_count": 370,
   "metadata": {},
   "outputs": [
    {
     "data": {
      "text/plain": [
       "False"
      ]
     },
     "execution_count": 370,
     "metadata": {},
     "output_type": "execute_result"
    }
   ],
   "source": []
  },
  {
   "cell_type": "code",
   "execution_count": null,
   "metadata": {},
   "outputs": [],
   "source": []
  }
 ],
 "metadata": {
  "kernelspec": {
   "display_name": "Python 3",
   "language": "python",
   "name": "python3"
  },
  "language_info": {
   "codemirror_mode": {
    "name": "ipython",
    "version": 3
   },
   "file_extension": ".py",
   "mimetype": "text/x-python",
   "name": "python",
   "nbconvert_exporter": "python",
   "pygments_lexer": "ipython3",
   "version": "3.7.9"
  }
 },
 "nbformat": 4,
 "nbformat_minor": 4
}
