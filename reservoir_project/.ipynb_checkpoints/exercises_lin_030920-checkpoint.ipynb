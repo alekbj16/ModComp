{
 "cells": [
  {
   "cell_type": "markdown",
   "metadata": {},
   "source": [
    "<!-- dom:TITLE: Finite difference, linear algebra, and tridiagonal matrices  -->\n",
    "# Finite difference, linear algebra, and tridiagonal matrices \n",
    "<!-- dom:AUTHOR: Prepared as part of MOD510 Computational Engineering and Modeling -->\n",
    "<!-- Author: -->  \n",
    "**Prepared as part of MOD510 Computational Engineering and Modeling**\n",
    "\n",
    "Date: **Feb 25, 2020**\n",
    "\n",
    "# Solving the stationary heat equation\n",
    "\n",
    "Learning objectives:\n",
    "1. Understand how a finite difference problem can be formulated as a\n",
    "\n",
    "matrix inversion problem\n",
    "1. See the value of using solvers that use the symmetry of the problem\n",
    "\n",
    "2. Understand the origin of a conservation equation\n",
    "\n",
    "<!-- --- begin exercise --- -->\n",
    "\n",
    "## Exercise 1: Conservation Equation or the Continuity Equation\n",
    "\n",
    "<!-- dom:FIGURE: [fig-lin/heat.png, width=700 frac=.9] Conservation of energy and the continuity equation. <div id=\"fig:nlin:heat\"></div> -->\n",
    "<!-- begin figure -->\n",
    "<div id=\"fig:nlin:heat\"></div>\n",
    "\n",
    "<p>Conservation of energy and the continuity equation.</p>\n",
    "<img src=\"fig-lin/heat.png\" width=700>\n",
    "\n",
    "<!-- end figure -->\n",
    "\n",
    "\n",
    "In [figure](#fig:nlin:heat), the continuity equation is derived for\n",
    "heat flow.\n",
    "### Heat equation for solids\n",
    "\n",
    "Derive the heat equation for a solid and show that it can be written:"
   ]
  },
  {
   "cell_type": "markdown",
   "metadata": {},
   "source": [
    "<!-- Equation labels as ordinary links -->\n",
    "<div id=\"eq:nlin:heateq\"></div>\n",
    "\n",
    "$$\n",
    "\\begin{equation}\n",
    "\\frac{d^2T}{dx^2}+\\frac{\\dot{\\sigma}}{k}=\\frac{\\rho c_p}{k}\\frac{dT}{dt},\n",
    "\\label{eq:nlin:heateq} \\tag{1}\n",
    "\\end{equation}\n",
    "$$"
   ]
  },
  {
   "cell_type": "markdown",
   "metadata": {},
   "source": [
    "where $\\dot{\\sigma}$ is the rate of heat generation in the solid. This\n",
    "equation can be used as a starting point for many inter-sting\n",
    "models. In this exercise we will investigate the *steady state*\n",
    "solution, *steady state* is just a fancy way of expressing that we\n",
    "want the solution that *does not change with time*. This is achieved\n",
    "by ignoring the derivative with respect to time in equation\n",
    "([1](#eq:nlin:heateq)). We want to study a system with size $L$, and is\n",
    "it good practice to introduce a dimensionless variable: $y=x/L$. \n",
    "Show that equation ([1](#eq:nlin:heateq)) now takes the following form:"
   ]
  },
  {
   "cell_type": "markdown",
   "metadata": {},
   "source": [
    "<!-- Equation labels as ordinary links -->\n",
    "<div id=\"eq:nlin:heat2\"></div>\n",
    "\n",
    "$$\n",
    "\\begin{equation}\n",
    "\\frac{d^2T }{dx^2}+\\frac{\\dot{\\sigma}L^2}{k}=0\n",
    "\\label{eq:nlin:heat2} \\tag{2}\n",
    "\\end{equation}\n",
    "$$"
   ]
  },
  {
   "cell_type": "markdown",
   "metadata": {},
   "source": [
    "<!-- --- end exercise --- -->\n",
    "\n",
    "\n",
    "\n",
    "\n",
    "<!-- --- begin exercise --- -->\n",
    "\n",
    "## Exercise 2: Curing of Concrete and Matrix Formulation\n",
    "\n",
    "Curing of concrete is one particular example that we can investigate\n",
    "with equation ([2](#eq:nlin:heat2)). When concrete is curing, there are\n",
    "a lot of chemical reactions happening, these reactions generate\n",
    "heat. This is a known issue, and if the temperature rises too much \n",
    "compared to the surroundings, the concrete may fracture.  In the\n",
    "following we will, for simplicity, assume that the rate of heat\n",
    "generated during curing is constant, $\\dot{\\sigma}=$100 W/m$^3$. The\n",
    "left end (at $x=0$) is insulated, meaning that there is no flow of\n",
    "heat over that boundary, hence $dT/dx=0$ at $x=0$. On the right hand\n",
    "side the temperature is kept constant, $x(L)=y(1)=T_1$, assumed to be\n",
    "equal to the ambient temperature of $T_1=25^\\circ$C.  The concrete\n",
    "thermal conductivity is assumed to be $k=1.65$ W/m$^\\circ$C.\n",
    "\n",
    "\n",
    "\n",
    "**Part 1.**\n",
    "\n",
    "Show that the solution to equation ([2](#eq:nlin:heat2)) in this case is:"
   ]
  },
  {
   "cell_type": "markdown",
   "metadata": {},
   "source": [
    "<!-- Equation labels as ordinary links -->\n",
    "<div id=\"eq:nlin:heatsol\"></div>\n",
    "\n",
    "$$\n",
    "\\begin{equation}\n",
    "T(y)=\\frac{\\dot{\\sigma}L^2}{2k}(1-y^2)+T_1.\n",
    "\\label{eq:nlin:heatsol} \\tag{3}\n",
    "\\end{equation}\n",
    "$$"
   ]
  },
  {
   "cell_type": "markdown",
   "metadata": {},
   "source": [
    "In order to solve equation ([2](#eq:nlin:heat2)) numerically, we need to discretize\n",
    "it.\n",
    "\n",
    "**Part 2.**\n",
    "\n",
    "Show that equation ([2](#eq:nlin:heat2)) now takes the following form:"
   ]
  },
  {
   "cell_type": "markdown",
   "metadata": {},
   "source": [
    "<!-- Equation labels as ordinary links -->\n",
    "<div id=\"eq:nlin:heat3\"></div>\n",
    "\n",
    "$$\n",
    "\\begin{equation}\n",
    "T_{i+1}+T_{i-1}-2T_i=-h^2\\beta,\n",
    "\\label{eq:nlin:heat3} \\tag{4}\n",
    "\\end{equation}\n",
    "$$"
   ]
  },
  {
   "cell_type": "markdown",
   "metadata": {},
   "source": [
    "where $\\beta=2\\dot{\\sigma}L^2/k$.\n",
    "<!-- dom:FIGURE: [fig-lin/heat_grid.png, width=200 frac=.5] Finite difference grid for $N=4$. <div id=\"fig:nlin:hgrid\"></div>  -->\n",
    "<!-- begin figure -->\n",
    "<div id=\"fig:nlin:hgrid\"></div>\n",
    "\n",
    "<p>Finite difference grid for $N=4$.</p>\n",
    "<img src=\"fig-lin/heat_grid.png\" width=200>\n",
    "\n",
    "<!-- end figure -->\n",
    "\n",
    "\n",
    "In [figure](#fig:nlin:hgrid), the finite difference grid is shown for\n",
    "$N=4$. Let us write down equation ([4](#eq:nlin:heat3)) for each grid\n",
    "node to see how the implementation is done in practice:"
   ]
  },
  {
   "cell_type": "markdown",
   "metadata": {},
   "source": [
    "<!-- Equation labels as ordinary links -->\n",
    "<div id=\"_auto1\"></div>\n",
    "\n",
    "$$\n",
    "\\begin{equation}\n",
    "T_{-1}+T_1-2T_0 =-h^2\\beta,{\\nonumber}\n",
    "\\label{_auto1} \\tag{5}\n",
    "\\end{equation}\n",
    "$$"
   ]
  },
  {
   "cell_type": "markdown",
   "metadata": {},
   "source": [
    "<!-- Equation labels as ordinary links -->\n",
    "<div id=\"_auto2\"></div>\n",
    "\n",
    "$$\n",
    "\\begin{equation}  \n",
    "T_{0}+T_2-2T_1 =-h^2\\beta,{\\nonumber}\n",
    "\\label{_auto2} \\tag{6}\n",
    "\\end{equation}\n",
    "$$"
   ]
  },
  {
   "cell_type": "markdown",
   "metadata": {},
   "source": [
    "<!-- Equation labels as ordinary links -->\n",
    "<div id=\"_auto3\"></div>\n",
    "\n",
    "$$\n",
    "\\begin{equation}  \n",
    "T_{1}+T_3-2T_2 =-h^2\\beta,{\\nonumber}\n",
    "\\label{_auto3} \\tag{7}\n",
    "\\end{equation}\n",
    "$$"
   ]
  },
  {
   "cell_type": "markdown",
   "metadata": {},
   "source": [
    "<!-- Equation labels as ordinary links -->\n",
    "<div id=\"_auto4\"></div>\n",
    "\n",
    "$$\n",
    "\\begin{equation}  \n",
    "T_{2}+T_4-2T_3 =-h^2\\beta.{\\nonumber}\n",
    "\\label{_auto4} \\tag{8}\n",
    "\\end{equation}\n",
    "$$"
   ]
  },
  {
   "cell_type": "markdown",
   "metadata": {},
   "source": [
    "<!-- Equation labels as ordinary links -->\n",
    "<div id=\"eq:nlin:heat4\"></div>\n",
    "\n",
    "$$\n",
    "\\begin{equation}  \n",
    "\\label{eq:nlin:heat4} \\tag{9}\n",
    "\\end{equation}\n",
    "$$"
   ]
  },
  {
   "cell_type": "markdown",
   "metadata": {},
   "source": [
    "The tricky part is now to introduce the boundary conditions. The right\n",
    "hand side is easy, because here the temperature is $T_4=25$. However,\n",
    "we see that $T_{-1}$ enters and we have no value for this node. The\n",
    "boundary condition on the left hand side is $dT/dy=0$, by using the\n",
    "central difference for the derivative allows us to write:"
   ]
  },
  {
   "cell_type": "markdown",
   "metadata": {},
   "source": [
    "<!-- Equation labels as ordinary links -->\n",
    "<div id=\"eq:nlin:bound1\"></div>\n",
    "\n",
    "$$\n",
    "\\begin{equation}\n",
    "\\left.\\frac{dT}{dy}\\right|_{y=0}=\\frac{T_{-1}-T_1}{2h}=0,\n",
    "\\label{eq:nlin:bound1} \\tag{10}\n",
    "\\end{equation}\n",
    "$$"
   ]
  },
  {
   "cell_type": "markdown",
   "metadata": {},
   "source": [
    "hence $T_{-1}=T_1$. Thus the final set of equations are:"
   ]
  },
  {
   "cell_type": "markdown",
   "metadata": {},
   "source": [
    "<!-- Equation labels as ordinary links -->\n",
    "<div id=\"_auto5\"></div>\n",
    "\n",
    "$$\n",
    "\\begin{equation}\n",
    "2T_1-2T_0 =-h^2\\beta,{\\nonumber}\n",
    "\\label{_auto5} \\tag{11}\n",
    "\\end{equation}\n",
    "$$"
   ]
  },
  {
   "cell_type": "markdown",
   "metadata": {},
   "source": [
    "<!-- Equation labels as ordinary links -->\n",
    "<div id=\"_auto6\"></div>\n",
    "\n",
    "$$\n",
    "\\begin{equation}  \n",
    "T_{0}+T_2-2T_1 =-h^2\\beta,{\\nonumber}\n",
    "\\label{_auto6} \\tag{12}\n",
    "\\end{equation}\n",
    "$$"
   ]
  },
  {
   "cell_type": "markdown",
   "metadata": {},
   "source": [
    "<!-- Equation labels as ordinary links -->\n",
    "<div id=\"_auto7\"></div>\n",
    "\n",
    "$$\n",
    "\\begin{equation}  \n",
    "T_{1}+T_3-2T_2 =-h^2\\beta,{\\nonumber}\n",
    "\\label{_auto7} \\tag{13}\n",
    "\\end{equation}\n",
    "$$"
   ]
  },
  {
   "cell_type": "markdown",
   "metadata": {},
   "source": [
    "<!-- Equation labels as ordinary links -->\n",
    "<div id=\"_auto8\"></div>\n",
    "\n",
    "$$\n",
    "\\begin{equation}  \n",
    "T_{2}+25-2T_3 =-h^2\\beta,{\\nonumber}\n",
    "\\label{_auto8} \\tag{14}\n",
    "\\end{equation}\n",
    "$$"
   ]
  },
  {
   "cell_type": "markdown",
   "metadata": {},
   "source": [
    "<!-- Equation labels as ordinary links -->\n",
    "<div id=\"eq:nlin:heat5\"></div>\n",
    "\n",
    "$$\n",
    "\\begin{equation}  \n",
    "\\label{eq:nlin:heat5} \\tag{15}\n",
    "\\end{equation}\n",
    "$$"
   ]
  },
  {
   "cell_type": "markdown",
   "metadata": {},
   "source": [
    "or in matrix form:"
   ]
  },
  {
   "cell_type": "markdown",
   "metadata": {},
   "source": [
    "<!-- Equation labels as ordinary links -->\n",
    "<div id=\"eq:lin:heats\"></div>\n",
    "\n",
    "$$\n",
    "\\begin{equation}\n",
    "\\left(\n",
    "\\begin{array}{cccc}\n",
    "-2&2&0&0\\\\ \n",
    "1&-2&1&0\\\\ \n",
    "0&1&-2&1\\\\ \n",
    "0&0&1&-2\\\\ \n",
    "\\end{array}\n",
    "\\right)\n",
    "\\left(\n",
    "\\begin{array}{c}\n",
    "T_0\\\\ \n",
    "T_1\\\\ \n",
    "T_2\\\\ \n",
    "T_3\\\\ \n",
    "\\end{array}\n",
    "\\right)\n",
    "=\n",
    "\\left(\n",
    "\\begin{array}{c}\n",
    "-h^2\\beta\\\\ \n",
    "-h^2\\beta\\\\ \n",
    "-h^2\\beta\\\\ \n",
    "-h^2\\beta-25\\\\ \n",
    "\\end{array}\n",
    "\\right).\n",
    "\\end{equation}\n",
    "\\label{eq:lin:heats} \\tag{16}\n",
    "$$"
   ]
  },
  {
   "cell_type": "markdown",
   "metadata": {},
   "source": [
    "Note that it is now easy to increase $N$ as it is only the boundaries\n",
    "that requires special attention. The set of equations can be solved\n",
    "using [`scipy.sparse.linalg.spsolve`](https://docs.scipy.org/doc/scipy/reference/sparse.linalg.html).\n",
    "The solution to the above equations is $L=1$ m, and $h=1/4$, is: $[T_0,T_1.T_2,T_3]=[55.3030303 , 53.40909091, 47.72727273, 38.25757576]$.\n",
    "\n",
    "<!-- --- end exercise --- -->"
   ]
  },
  {
   "cell_type": "code",
   "execution_count": 14,
   "metadata": {},
   "outputs": [
    {
     "name": "stdout",
     "output_type": "stream",
     "text": [
      "[[-2.  2.  0.  0.]\n",
      " [ 1. -2.  1.  0.]\n",
      " [ 0.  1. -2.  1.]\n",
      " [ 0.  0.  1. -2.]]\n",
      "[ -3.78787879  -3.78787879  -3.78787879 -28.78787879]\n"
     ]
    },
    {
     "data": {
      "text/plain": [
       "array([55.3030303 , 53.40909091, 47.72727273, 38.25757576])"
      ]
     },
     "execution_count": 14,
     "metadata": {},
     "output_type": "execute_result"
    }
   ],
   "source": [
    "import numpy as np\n",
    "from numpy.linalg import solve\n",
    "def tri_diag(a, b, c, k1=-1, k2=0, k3=1):\n",
    "    \"\"\" a,b,c diagonal terms \"\"\"\n",
    "    return np.diag(a, k1) + np.diag(b, k2) + np.diag(c, k3)\n",
    "\n",
    "# Set simulation parameters\n",
    "h = 0.25              # element size\n",
    "L = 1.0              # length of domain\n",
    "n = int(round(L/h))  # number of unknowns \n",
    "x=np.arange(n+1)*h   # includes right bc \n",
    "T1=25\n",
    "sigma = 100*L**2/1.65\n",
    "\n",
    "#Create matrix for linalg solver\n",
    "a=np.ones(n-1)\n",
    "b=-np.ones(n)*2\n",
    "c=np.ones(n-1)\n",
    "\n",
    "# rhs vector\n",
    "d=np.repeat(-h*h*sigma,n)\n",
    "\n",
    "#----boundary conditions ------\n",
    "#lhs - no flux of heat\n",
    "c[0]=2\n",
    "#rhs - constant temperature\n",
    "d[n-1]=d[n-1]-T1\n",
    "#------------------------------\n",
    "\n",
    "A=tri_diag(a,b,c)\n",
    "\n",
    "print(A)\n",
    "print(d)\n",
    "solve(A,d)"
   ]
  },
  {
   "cell_type": "code",
   "execution_count": 18,
   "metadata": {},
   "outputs": [
    {
     "name": "stdout",
     "output_type": "stream",
     "text": [
      "[[0. 2. 0. 0.]\n",
      " [1. 0. 1. 0.]\n",
      " [0. 1. 0. 1.]\n",
      " [0. 0. 1. 0.]]\n",
      "found solution after 123 iterations\n",
      "[55.29925667 53.40574534 47.72460437 38.25618998]\n",
      "found solution after 67 iterations\n",
      "[55.30110946 53.40745137 47.7261134  38.25699609]\n"
     ]
    }
   ],
   "source": [
    "R=A-np.diag(np.diag(A))\n",
    "print(R)\n",
    "def iterative_solv(A,b,x=np.zeros(len(b)),max_iter=1000):\n",
    "    D=np.diag(A)\n",
    "    R=A-np.diag(D)\n",
    "    eps=1\n",
    "    x_old=x\n",
    "    iter=0\n",
    "    while(eps>1e-3 and iter<max_iter):\n",
    "        iter+=1\n",
    "        x=(b-np.dot(R,x_old))/D\n",
    "        eps=np.abs(np.sum(x-x_old))\n",
    "        x_old=x\n",
    "    print('found solution after ' + str(iter) +' iterations')\n",
    "    return x\n",
    "\n",
    "def iterative_GJ(A,b,x=np.zeros(len(b)),max_iter=1000,w=1):\n",
    "    D=np.diag(A)\n",
    "    R=A-np.diag(D)\n",
    "    eps=1\n",
    "    iter=0\n",
    "    while(eps>1e-3 and iter<max_iter):\n",
    "        iter+=1\n",
    "        eps=0.\n",
    "        for i in range(len(x)):\n",
    "            tmp=x[i]\n",
    "            x[i]=w*(b[i]- np.dot(R[i,:],x))/D[i]\n",
    "            eps+=np.abs(tmp-x[i])\n",
    "    print('found solution after ' + str(iter) +' iterations')\n",
    "    return x\n",
    "\n",
    "\n",
    "sol=iterative_solv(A,d)\n",
    "print(sol)        \n",
    "sol=iterative_GJ(A,d)\n",
    "print(sol)"
   ]
  },
  {
   "cell_type": "code",
   "execution_count": 1,
   "metadata": {},
   "outputs": [],
   "source": [
    "%matplotlib inline\n",
    "\n",
    "import numpy as np\n",
    "import scipy as sc\n",
    "import scipy.sparse.linalg\n",
    "# Set simulation parameters\n",
    "\n",
    "h = 0.25                # step size\n",
    "L = 1.0                 # domain size \n",
    "n = int(round(L/h)) -1  # number of nodes\n",
    "\n",
    "beta = ....\n",
    "\n",
    "def analytical(beta,x):\n",
    "    return ....\n",
    "#Set up sparse matrix\n",
    "diagonals=np.zeros((3,n))\n",
    "diagonals[0,:]= ...                       \n",
    "diagonals[1,:]= ... \n",
    "diagonals[2,:]= ...\n",
    "# make sure to set up correct boundary conditions!\n",
    "A_sparse = sc.sparse.spdiags(..., ..., , n, n,format='csc') \n",
    "\n",
    "#rhs array here:\n",
    "d = ...\n",
    "\n",
    "T = sc.sparse.linalg.spsolve( ... )\n",
    "\n",
    "# if you like you can use timeit to check the efficiency\n",
    "# %timeit sc.sparse.linalg.spsolve( ... )\n",
    "\n",
    "# make a plot, that compares the analytical result and the numerical, test for varying degree of step size h\n",
    "import matplotlib.pyplot as plt"
   ]
  },
  {
   "cell_type": "markdown",
   "metadata": {},
   "source": [
    "* How does your solution compare with the analytical results, where is\n",
    "  the match good?\n",
    "\n",
    "* What step size do you need in order to get a good match?\n",
    "\n",
    "* Compare the sparse solver with the standard Numpy solver using\n",
    "  `%timeit`, how large must the linear system be before an improvement\n",
    "  in speed is seen?\n",
    "\n",
    "* How can we improve the numerical algorithm to get a better match?\n",
    "\n",
    "* Do you think the solution to this equation has practical implications? What are the limitations?\n",
    "\n",
    "<!-- --- begin solution of exercise --- -->\n",
    "**Solution.**\n",
    "**Notice.**\n",
    "\n",
    "The solution below implements equation ([16](#eq:lin:heats)) using sparse matrices, and the standard Numpy `solve` function. You can use the `%timeit` magic command in Ipython and Jupyter notebooks to test the efficiency."
   ]
  },
  {
   "cell_type": "code",
   "execution_count": 20,
   "metadata": {},
   "outputs": [
    {
     "name": "stdout",
     "output_type": "stream",
     "text": [
      "171 µs ± 6.46 µs per loop (mean ± std. dev. of 7 runs, 10000 loops each)\n",
      "2.07 ms ± 82.7 µs per loop (mean ± std. dev. of 7 runs, 1000 loops each)\n"
     ]
    },
    {
     "data": {
      "image/png": "[encoded data removed]",
      "text/plain": [
       "<Figure size 432x288 with 1 Axes>"
      ]
     },
     "metadata": {
      "needs_background": "light"
     },
     "output_type": "display_data"
    }
   ],
   "source": [
    "#%matplotlib inline\n",
    "import numpy as np\n",
    "import scipy as sc\n",
    "import scipy.sparse.linalg\n",
    "from numpy.linalg import solve\n",
    "import matplotlib.pyplot as plt\n",
    "\n",
    "# Set simulation parameters\n",
    "h = 0.0025              # element size\n",
    "L = 1.0              # length of domain\n",
    "n = int(round(L/h))  # number of unknowns \n",
    "x=np.arange(n+1)*h   # includes right bc \n",
    "T1=25\n",
    "sigma = 100*L**2/1.65\n",
    "\n",
    "def tri_diag(a, b, c, k1=-1, k2=0, k3=1):\n",
    "    \"\"\" a,b,c diagonal terms \"\"\"\n",
    "    return np.diag(a, k1) + np.diag(b, k2) + np.diag(c, k3)\n",
    "\n",
    "def analytical(sigma,x):\n",
    "    return sigma*(1-x*x)/2+T1\n",
    "\n",
    "#Create matrix for linalg solver\n",
    "a=np.ones(n-1)\n",
    "b=-np.ones(n)*2\n",
    "c=np.ones(n-1)\n",
    "#Create matrix for sparse solver\n",
    "diagonals=np.zeros((3,n))\n",
    "diagonals[0,:]= 1\n",
    "diagonals[1,:]= -2  \n",
    "diagonals[2,:]= 1\n",
    "\n",
    "# rhs vector\n",
    "d=np.repeat(-h*h*sigma,n)\n",
    "\n",
    "#----boundary conditions ------\n",
    "#lhs - no flux of heat\n",
    "diagonals[2,1]= 2\n",
    "c[0]=2\n",
    "#rhs - constant temperature\n",
    "d[n-1]=d[n-1]-T1\n",
    "#------------------------------\n",
    "\n",
    "A=tri_diag(a,b,c)\n",
    "A_sparse = sc.sparse.spdiags(diagonals, [-1,0,1], n, n,format='csc') \n",
    "\n",
    "#Solve linear problems\n",
    "Ta = solve(A,d,)\n",
    "Tb = sc.sparse.linalg.spsolve(A_sparse,d)\n",
    "#Add right boundary node\n",
    "Ta=np.append(Ta,T1)\n",
    "Tb=np.append(Tb,T1)\n",
    "#uncomment to test efficiency\n",
    "%timeit sc.sparse.linalg.spsolve(A_sparse,d)\n",
    "%timeit solve(A,d,)\n",
    "\n",
    "# Plot solutions\n",
    "plt.plot(x,Ta,x,Tb,'-.',x,analytical(sigma,x),':', lw=3)\n",
    "plt.xlabel(\"Dimensionless length\")\n",
    "plt.ylabel(r\"Temperature [$^\\circ$C]\")\n",
    "plt.xlim(0,1)\n",
    "plt.ylim(T1-1)\n",
    "plt.legend(['sparse','linalg','analytical'])\n",
    "plt.grid()\n",
    "plt.show()"
   ]
  },
  {
   "cell_type": "code",
   "execution_count": 18,
   "metadata": {},
   "outputs": [
    {
     "data": {
      "text/plain": [
       "array([55.3030303 , 53.40909091, 47.72727273, 38.25757576, 25.        ])"
      ]
     },
     "execution_count": 18,
     "metadata": {},
     "output_type": "execute_result"
    }
   ],
   "source": [
    "Ta"
   ]
  },
  {
   "cell_type": "markdown",
   "metadata": {},
   "source": [
    "<!-- --- end solution of exercise --- -->\n",
    "\n",
    "<!-- --- end exercise --- -->"
   ]
  }
 ],
 "metadata": {
  "kernelspec": {
   "display_name": "Python 3",
   "language": "python",
   "name": "python3"
  },
  "language_info": {
   "codemirror_mode": {
    "name": "ipython",
    "version": 3
   },
   "file_extension": ".py",
   "mimetype": "text/x-python",
   "name": "python",
   "nbconvert_exporter": "python",
   "pygments_lexer": "ipython3",
   "version": "3.7.9"
  }
 },
 "nbformat": 4,
 "nbformat_minor": 4
}
